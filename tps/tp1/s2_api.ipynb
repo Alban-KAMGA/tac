{
 "cells": [
  {
   "cell_type": "markdown",
   "metadata": {},
   "source": [
    "# APIs: requêtes HTTP"
   ]
  },
  {
   "cell_type": "markdown",
   "metadata": {},
   "source": [
    "## Imports"
   ]
  },
  {
   "cell_type": "code",
   "execution_count": 1,
   "metadata": {},
   "outputs": [],
   "source": [
    "import json\n",
    "import requests"
   ]
  },
  {
   "cell_type": "markdown",
   "metadata": {},
   "source": [
    "## Utiliser [Nominatim](https://nominatim.org/) pour connaître les coordonnées géographiques d'une adresse"
   ]
  },
  {
   "cell_type": "code",
   "execution_count": 3,
   "metadata": {},
   "outputs": [
    {
     "name": "stdout",
     "output_type": "stream",
     "text": [
      "Synonymes pour 'maison' :\n"
     ]
    }
   ],
   "source": [
    "# Exemple : mot à enrichir\n",
    "word = \"maison\"\n",
    "\n",
    "# API Datamuse - recherche de synonymes\n",
    "url = \"https://api.datamuse.com/words\"\n",
    "params = {'rel_syn': word}  # rel_syn = recherche de synonymes\n",
    "resp = requests.get(url, params=params)\n",
    "\n",
    "try:\n",
    "    synonyms = resp.json()\n",
    "except json.JSONDecodeError:\n",
    "    print(resp.text)\n",
    "\n",
    "# Affichage des synonymes\n",
    "print(f\"Synonymes pour '{word}' :\")\n",
    "for item in synonyms[:10]:  # on limite à 10 résultats\n",
    "    print(f\"- {item['word']}\")"
   ]
  },
  {
   "cell_type": "markdown",
   "metadata": {},
   "source": [
    "## Utiliser REST Countries pour récupérer des informations sur un pays"
   ]
  },
  {
   "cell_type": "markdown",
   "metadata": {},
   "source": [
    "https://restcountries.com/"
   ]
  },
  {
   "cell_type": "code",
   "execution_count": 6,
   "metadata": {},
   "outputs": [
    {
     "name": "stdout",
     "output_type": "stream",
     "text": [
      "Clé 'translatedText' non trouvée. Contenu retourné : {'error': 'Visit https://portal.libretranslate.com to get an API key'}\n"
     ]
    }
   ],
   "source": [
    "\n",
    "url = \"https://libretranslate.com/translate\"\n",
    "data = {\n",
    "    \"q\": \"Bonjour tout le monde\",\n",
    "    \"source\": \"fr\",\n",
    "    \"target\": \"en\",\n",
    "    \"format\": \"text\"\n",
    "}\n",
    "\n",
    "# Envoi de la requête POST avec JSON\n",
    "resp = requests.post(url, json=data)\n",
    "\n",
    "try:\n",
    "    translated = resp.json()  # parse la réponse JSON\n",
    "    # Vérification que la clé existe avant d'afficher\n",
    "    if 'translatedText' in translated:\n",
    "        print(\"Traduction :\", translated['translatedText'])\n",
    "    else:\n",
    "        print(\"Clé 'translatedText' non trouvée. Contenu retourné :\", translated)\n",
    "except ValueError:  # JSONDecodeError n'existe plus dans les versions récentes de Python\n",
    "    print(\"Erreur lors de la lecture du JSON :\", resp.text)\n"
   ]
  },
  {
   "cell_type": "markdown",
   "metadata": {},
   "source": [
    "## Pour en savoir plus"
   ]
  },
  {
   "cell_type": "markdown",
   "metadata": {},
   "source": [
    "- Les API Rest: https://towardsdatascience.com/introduction-to-rest-apis-90b5d9676004\n",
    "- La librairie [`requests`](https://requests.readthedocs.io/en/latest/)\n",
    "- Développer une API en Python : https://openclassrooms.com/en/courses/4525361-realisez-un-dashboard-avec-tableau/5774811-creez-une-api-avec-flask"
   ]
  }
 ],
 "metadata": {
  "kernelspec": {
   "display_name": "venv",
   "language": "python",
   "name": "python3"
  },
  "language_info": {
   "codemirror_mode": {
    "name": "ipython",
    "version": 3
   },
   "file_extension": ".py",
   "mimetype": "text/x-python",
   "name": "python",
   "nbconvert_exporter": "python",
   "pygments_lexer": "ipython3",
   "version": "3.12.10"
  }
 },
 "nbformat": 4,
 "nbformat_minor": 4
}
