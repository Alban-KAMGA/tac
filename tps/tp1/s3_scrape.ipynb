{
 "cells": [
  {
   "cell_type": "markdown",
   "metadata": {},
   "source": [
    "# Scraping: Téléchargement automatique de 51 Fichier pdf sur :https://max.de.wilde.web.ulb.be/camille/\n",
    "\n",
    "Dans ce notebook, nous créons un robot qui va récupérer 51 liens pdf sur (https://max.de.wilde.web.ulb.be/camille/) et les télécharger"
   ]
  },
  {
   "cell_type": "markdown",
   "metadata": {},
   "source": [
    "## Imports"
   ]
  },
  {
   "cell_type": "code",
   "execution_count": 1,
   "metadata": {},
   "outputs": [],
   "source": [
    "import os\n",
    "import re\n",
    "import time\n",
    "import requests\n",
    "from bs4 import BeautifulSoup\n",
    "import pandas as pd"
   ]
  },
  {
   "cell_type": "markdown",
   "metadata": {},
   "source": [
    "## Récupération de tous les Liens pdf\n",
    "\n"
   ]
  },
  {
   "cell_type": "code",
   "execution_count": 2,
   "metadata": {},
   "outputs": [
    {
     "name": "stderr",
     "output_type": "stream",
     "text": [
      "c:\\Users\\alban\\Desktop\\Master1-STIC\\BLOC 2\\Traduction automatique des corpus\\tac\\venv\\Lib\\site-packages\\urllib3\\connectionpool.py:1097: InsecureRequestWarning: Unverified HTTPS request is being made to host 'max.de.wilde.web.ulb.be'. Adding certificate verification is strongly advised. See: https://urllib3.readthedocs.io/en/latest/advanced-usage.html#tls-warnings\n",
      "  warnings.warn(\n"
     ]
    }
   ],
   "source": [
    "headers = {'User-Agent': 'Mozilla/5.0 (Macintosh; Intel Mac OS X 10_10_1) AppleWebKit/537.36 (KHTML, like Gecko) Chrome/39.0.2171.95 Safari/537.36'}\n",
    "\n",
    "pdf_links = []\n",
    "\n",
    "root_url = \"https://max.de.wilde.web.ulb.be/camille/\"\n",
    "response = requests.get(root_url, verify=False)\n",
    "soup = BeautifulSoup(response.text, 'html.parser')\n",
    "for link in soup.find_all(\"a\", href=True):\n",
    "    href = link[\"href\"]\n",
    "    from urllib.parse import urljoin\n",
    "    url = urljoin(root_url, link['href'])\n",
    "    pdf_links.append(url)"
   ]
  },
  {
   "cell_type": "code",
   "execution_count": 3,
   "metadata": {},
   "outputs": [
    {
     "data": {
      "text/plain": [
       "51"
      ]
     },
     "execution_count": 3,
     "metadata": {},
     "output_type": "execute_result"
    }
   ],
   "source": [
    "# Affichage du nombre de liens PDF récupérés\n",
    "len(pdf_links)"
   ]
  },
  {
   "cell_type": "code",
   "execution_count": 4,
   "metadata": {},
   "outputs": [
    {
     "data": {
      "text/plain": [
       "['https://max.de.wilde.web.ulb.be/camille/KB_JB230_1892-08-07_01-0003.pdf',\n",
       " 'https://max.de.wilde.web.ulb.be/camille/KB_JB427_1920-01-10_01-00004.pdf',\n",
       " 'https://max.de.wilde.web.ulb.be/camille/KB_JB555_1836-02-08_01-00002.pdf',\n",
       " 'https://max.de.wilde.web.ulb.be/camille/KB_JB638_1860-05-21_01-00002.pdf',\n",
       " 'https://max.de.wilde.web.ulb.be/camille/KB_JB773_1918-11-30_01-00002.pdf',\n",
       " 'https://max.de.wilde.web.ulb.be/camille/KB_JB838_1887-12-28_01-00003.pdf',\n",
       " 'https://max.de.wilde.web.ulb.be/camille/KB_JB230_1903-10-16_01-0002.pdf',\n",
       " 'https://max.de.wilde.web.ulb.be/camille/KB_JB427_1933-01-04_01-00003.pdf',\n",
       " 'https://max.de.wilde.web.ulb.be/camille/KB_JB555_1899-01-19_01-00003.pdf',\n",
       " 'https://max.de.wilde.web.ulb.be/camille/KB_JB638_1902-12-20_01-00002.pdf']"
      ]
     },
     "execution_count": 4,
     "metadata": {},
     "output_type": "execute_result"
    }
   ],
   "source": [
    "# Affichage des 10 premières entrées\n",
    "pdf_links[:10]"
   ]
  },
  {
   "cell_type": "markdown",
   "metadata": {},
   "source": [
    "## Création d'un dataframe avec les liens recupérés\n"
   ]
  },
  {
   "cell_type": "code",
   "execution_count": 5,
   "metadata": {},
   "outputs": [
    {
     "data": {
      "text/html": [
       "<div>\n",
       "<style scoped>\n",
       "    .dataframe tbody tr th:only-of-type {\n",
       "        vertical-align: middle;\n",
       "    }\n",
       "\n",
       "    .dataframe tbody tr th {\n",
       "        vertical-align: top;\n",
       "    }\n",
       "\n",
       "    .dataframe thead th {\n",
       "        text-align: right;\n",
       "    }\n",
       "</style>\n",
       "<table border=\"1\" class=\"dataframe\">\n",
       "  <thead>\n",
       "    <tr style=\"text-align: right;\">\n",
       "      <th></th>\n",
       "      <th>pdf_link</th>\n",
       "    </tr>\n",
       "  </thead>\n",
       "  <tbody>\n",
       "    <tr>\n",
       "      <th>0</th>\n",
       "      <td>https://max.de.wilde.web.ulb.be/camille/KB_JB2...</td>\n",
       "    </tr>\n",
       "    <tr>\n",
       "      <th>1</th>\n",
       "      <td>https://max.de.wilde.web.ulb.be/camille/KB_JB4...</td>\n",
       "    </tr>\n",
       "    <tr>\n",
       "      <th>2</th>\n",
       "      <td>https://max.de.wilde.web.ulb.be/camille/KB_JB5...</td>\n",
       "    </tr>\n",
       "    <tr>\n",
       "      <th>3</th>\n",
       "      <td>https://max.de.wilde.web.ulb.be/camille/KB_JB6...</td>\n",
       "    </tr>\n",
       "    <tr>\n",
       "      <th>4</th>\n",
       "      <td>https://max.de.wilde.web.ulb.be/camille/KB_JB7...</td>\n",
       "    </tr>\n",
       "    <tr>\n",
       "      <th>5</th>\n",
       "      <td>https://max.de.wilde.web.ulb.be/camille/KB_JB8...</td>\n",
       "    </tr>\n",
       "    <tr>\n",
       "      <th>6</th>\n",
       "      <td>https://max.de.wilde.web.ulb.be/camille/KB_JB2...</td>\n",
       "    </tr>\n",
       "    <tr>\n",
       "      <th>7</th>\n",
       "      <td>https://max.de.wilde.web.ulb.be/camille/KB_JB4...</td>\n",
       "    </tr>\n",
       "    <tr>\n",
       "      <th>8</th>\n",
       "      <td>https://max.de.wilde.web.ulb.be/camille/KB_JB5...</td>\n",
       "    </tr>\n",
       "    <tr>\n",
       "      <th>9</th>\n",
       "      <td>https://max.de.wilde.web.ulb.be/camille/KB_JB6...</td>\n",
       "    </tr>\n",
       "    <tr>\n",
       "      <th>10</th>\n",
       "      <td>https://max.de.wilde.web.ulb.be/camille/KB_JB7...</td>\n",
       "    </tr>\n",
       "    <tr>\n",
       "      <th>11</th>\n",
       "      <td>https://max.de.wilde.web.ulb.be/camille/KB_JB8...</td>\n",
       "    </tr>\n",
       "    <tr>\n",
       "      <th>12</th>\n",
       "      <td>https://max.de.wilde.web.ulb.be/camille/KB_JB2...</td>\n",
       "    </tr>\n",
       "    <tr>\n",
       "      <th>13</th>\n",
       "      <td>https://max.de.wilde.web.ulb.be/camille/KB_JB4...</td>\n",
       "    </tr>\n",
       "    <tr>\n",
       "      <th>14</th>\n",
       "      <td>https://max.de.wilde.web.ulb.be/camille/KB_JB5...</td>\n",
       "    </tr>\n",
       "    <tr>\n",
       "      <th>15</th>\n",
       "      <td>https://max.de.wilde.web.ulb.be/camille/KB_JB6...</td>\n",
       "    </tr>\n",
       "    <tr>\n",
       "      <th>16</th>\n",
       "      <td>https://max.de.wilde.web.ulb.be/camille/KB_JB7...</td>\n",
       "    </tr>\n",
       "    <tr>\n",
       "      <th>17</th>\n",
       "      <td>https://max.de.wilde.web.ulb.be/camille/KB_JB8...</td>\n",
       "    </tr>\n",
       "    <tr>\n",
       "      <th>18</th>\n",
       "      <td>https://max.de.wilde.web.ulb.be/camille/KB_JB2...</td>\n",
       "    </tr>\n",
       "    <tr>\n",
       "      <th>19</th>\n",
       "      <td>https://max.de.wilde.web.ulb.be/camille/KB_JB4...</td>\n",
       "    </tr>\n",
       "    <tr>\n",
       "      <th>20</th>\n",
       "      <td>https://max.de.wilde.web.ulb.be/camille/KB_JB5...</td>\n",
       "    </tr>\n",
       "    <tr>\n",
       "      <th>21</th>\n",
       "      <td>https://max.de.wilde.web.ulb.be/camille/KB_JB6...</td>\n",
       "    </tr>\n",
       "    <tr>\n",
       "      <th>22</th>\n",
       "      <td>https://max.de.wilde.web.ulb.be/camille/KB_JB8...</td>\n",
       "    </tr>\n",
       "    <tr>\n",
       "      <th>23</th>\n",
       "      <td>https://max.de.wilde.web.ulb.be/camille/KB_JB9...</td>\n",
       "    </tr>\n",
       "    <tr>\n",
       "      <th>24</th>\n",
       "      <td>https://max.de.wilde.web.ulb.be/camille/KB_JB2...</td>\n",
       "    </tr>\n",
       "    <tr>\n",
       "      <th>25</th>\n",
       "      <td>https://max.de.wilde.web.ulb.be/camille/KB_JB4...</td>\n",
       "    </tr>\n",
       "    <tr>\n",
       "      <th>26</th>\n",
       "      <td>https://max.de.wilde.web.ulb.be/camille/KB_JB5...</td>\n",
       "    </tr>\n",
       "    <tr>\n",
       "      <th>27</th>\n",
       "      <td>https://max.de.wilde.web.ulb.be/camille/KB_JB6...</td>\n",
       "    </tr>\n",
       "    <tr>\n",
       "      <th>28</th>\n",
       "      <td>https://max.de.wilde.web.ulb.be/camille/KB_JB8...</td>\n",
       "    </tr>\n",
       "    <tr>\n",
       "      <th>29</th>\n",
       "      <td>https://max.de.wilde.web.ulb.be/camille/KB_JB9...</td>\n",
       "    </tr>\n",
       "    <tr>\n",
       "      <th>30</th>\n",
       "      <td>https://max.de.wilde.web.ulb.be/camille/KB_JB2...</td>\n",
       "    </tr>\n",
       "    <tr>\n",
       "      <th>31</th>\n",
       "      <td>https://max.de.wilde.web.ulb.be/camille/KB_JB4...</td>\n",
       "    </tr>\n",
       "    <tr>\n",
       "      <th>32</th>\n",
       "      <td>https://max.de.wilde.web.ulb.be/camille/KB_JB5...</td>\n",
       "    </tr>\n",
       "    <tr>\n",
       "      <th>33</th>\n",
       "      <td>https://max.de.wilde.web.ulb.be/camille/KB_JB6...</td>\n",
       "    </tr>\n",
       "    <tr>\n",
       "      <th>34</th>\n",
       "      <td>https://max.de.wilde.web.ulb.be/camille/KB_JB8...</td>\n",
       "    </tr>\n",
       "    <tr>\n",
       "      <th>35</th>\n",
       "      <td>https://max.de.wilde.web.ulb.be/camille/KB_JB9...</td>\n",
       "    </tr>\n",
       "    <tr>\n",
       "      <th>36</th>\n",
       "      <td>https://max.de.wilde.web.ulb.be/camille/KB_JB4...</td>\n",
       "    </tr>\n",
       "    <tr>\n",
       "      <th>37</th>\n",
       "      <td>https://max.de.wilde.web.ulb.be/camille/KB_JB4...</td>\n",
       "    </tr>\n",
       "    <tr>\n",
       "      <th>38</th>\n",
       "      <td>https://max.de.wilde.web.ulb.be/camille/KB_JB5...</td>\n",
       "    </tr>\n",
       "    <tr>\n",
       "      <th>39</th>\n",
       "      <td>https://max.de.wilde.web.ulb.be/camille/KB_JB7...</td>\n",
       "    </tr>\n",
       "    <tr>\n",
       "      <th>40</th>\n",
       "      <td>https://max.de.wilde.web.ulb.be/camille/KB_JB8...</td>\n",
       "    </tr>\n",
       "    <tr>\n",
       "      <th>41</th>\n",
       "      <td>https://max.de.wilde.web.ulb.be/camille/KB_JB4...</td>\n",
       "    </tr>\n",
       "    <tr>\n",
       "      <th>42</th>\n",
       "      <td>https://max.de.wilde.web.ulb.be/camille/KB_JB4...</td>\n",
       "    </tr>\n",
       "    <tr>\n",
       "      <th>43</th>\n",
       "      <td>https://max.de.wilde.web.ulb.be/camille/KB_JB5...</td>\n",
       "    </tr>\n",
       "    <tr>\n",
       "      <th>44</th>\n",
       "      <td>https://max.de.wilde.web.ulb.be/camille/KB_JB7...</td>\n",
       "    </tr>\n",
       "    <tr>\n",
       "      <th>45</th>\n",
       "      <td>https://max.de.wilde.web.ulb.be/camille/KB_JB8...</td>\n",
       "    </tr>\n",
       "    <tr>\n",
       "      <th>46</th>\n",
       "      <td>https://max.de.wilde.web.ulb.be/camille/KB_JB4...</td>\n",
       "    </tr>\n",
       "    <tr>\n",
       "      <th>47</th>\n",
       "      <td>https://max.de.wilde.web.ulb.be/camille/KB_JB4...</td>\n",
       "    </tr>\n",
       "    <tr>\n",
       "      <th>48</th>\n",
       "      <td>https://max.de.wilde.web.ulb.be/camille/KB_JB5...</td>\n",
       "    </tr>\n",
       "    <tr>\n",
       "      <th>49</th>\n",
       "      <td>https://max.de.wilde.web.ulb.be/camille/KB_JB7...</td>\n",
       "    </tr>\n",
       "    <tr>\n",
       "      <th>50</th>\n",
       "      <td>https://max.de.wilde.web.ulb.be/camille/KB_JB8...</td>\n",
       "    </tr>\n",
       "  </tbody>\n",
       "</table>\n",
       "</div>"
      ],
      "text/plain": [
       "                                             pdf_link\n",
       "0   https://max.de.wilde.web.ulb.be/camille/KB_JB2...\n",
       "1   https://max.de.wilde.web.ulb.be/camille/KB_JB4...\n",
       "2   https://max.de.wilde.web.ulb.be/camille/KB_JB5...\n",
       "3   https://max.de.wilde.web.ulb.be/camille/KB_JB6...\n",
       "4   https://max.de.wilde.web.ulb.be/camille/KB_JB7...\n",
       "5   https://max.de.wilde.web.ulb.be/camille/KB_JB8...\n",
       "6   https://max.de.wilde.web.ulb.be/camille/KB_JB2...\n",
       "7   https://max.de.wilde.web.ulb.be/camille/KB_JB4...\n",
       "8   https://max.de.wilde.web.ulb.be/camille/KB_JB5...\n",
       "9   https://max.de.wilde.web.ulb.be/camille/KB_JB6...\n",
       "10  https://max.de.wilde.web.ulb.be/camille/KB_JB7...\n",
       "11  https://max.de.wilde.web.ulb.be/camille/KB_JB8...\n",
       "12  https://max.de.wilde.web.ulb.be/camille/KB_JB2...\n",
       "13  https://max.de.wilde.web.ulb.be/camille/KB_JB4...\n",
       "14  https://max.de.wilde.web.ulb.be/camille/KB_JB5...\n",
       "15  https://max.de.wilde.web.ulb.be/camille/KB_JB6...\n",
       "16  https://max.de.wilde.web.ulb.be/camille/KB_JB7...\n",
       "17  https://max.de.wilde.web.ulb.be/camille/KB_JB8...\n",
       "18  https://max.de.wilde.web.ulb.be/camille/KB_JB2...\n",
       "19  https://max.de.wilde.web.ulb.be/camille/KB_JB4...\n",
       "20  https://max.de.wilde.web.ulb.be/camille/KB_JB5...\n",
       "21  https://max.de.wilde.web.ulb.be/camille/KB_JB6...\n",
       "22  https://max.de.wilde.web.ulb.be/camille/KB_JB8...\n",
       "23  https://max.de.wilde.web.ulb.be/camille/KB_JB9...\n",
       "24  https://max.de.wilde.web.ulb.be/camille/KB_JB2...\n",
       "25  https://max.de.wilde.web.ulb.be/camille/KB_JB4...\n",
       "26  https://max.de.wilde.web.ulb.be/camille/KB_JB5...\n",
       "27  https://max.de.wilde.web.ulb.be/camille/KB_JB6...\n",
       "28  https://max.de.wilde.web.ulb.be/camille/KB_JB8...\n",
       "29  https://max.de.wilde.web.ulb.be/camille/KB_JB9...\n",
       "30  https://max.de.wilde.web.ulb.be/camille/KB_JB2...\n",
       "31  https://max.de.wilde.web.ulb.be/camille/KB_JB4...\n",
       "32  https://max.de.wilde.web.ulb.be/camille/KB_JB5...\n",
       "33  https://max.de.wilde.web.ulb.be/camille/KB_JB6...\n",
       "34  https://max.de.wilde.web.ulb.be/camille/KB_JB8...\n",
       "35  https://max.de.wilde.web.ulb.be/camille/KB_JB9...\n",
       "36  https://max.de.wilde.web.ulb.be/camille/KB_JB4...\n",
       "37  https://max.de.wilde.web.ulb.be/camille/KB_JB4...\n",
       "38  https://max.de.wilde.web.ulb.be/camille/KB_JB5...\n",
       "39  https://max.de.wilde.web.ulb.be/camille/KB_JB7...\n",
       "40  https://max.de.wilde.web.ulb.be/camille/KB_JB8...\n",
       "41  https://max.de.wilde.web.ulb.be/camille/KB_JB4...\n",
       "42  https://max.de.wilde.web.ulb.be/camille/KB_JB4...\n",
       "43  https://max.de.wilde.web.ulb.be/camille/KB_JB5...\n",
       "44  https://max.de.wilde.web.ulb.be/camille/KB_JB7...\n",
       "45  https://max.de.wilde.web.ulb.be/camille/KB_JB8...\n",
       "46  https://max.de.wilde.web.ulb.be/camille/KB_JB4...\n",
       "47  https://max.de.wilde.web.ulb.be/camille/KB_JB4...\n",
       "48  https://max.de.wilde.web.ulb.be/camille/KB_JB5...\n",
       "49  https://max.de.wilde.web.ulb.be/camille/KB_JB7...\n",
       "50  https://max.de.wilde.web.ulb.be/camille/KB_JB8..."
      ]
     },
     "execution_count": 5,
     "metadata": {},
     "output_type": "execute_result"
    }
   ],
   "source": [
    "df = pd.DataFrame(pdf_links, columns=['pdf_link'])\n",
    "df"
   ]
  },
  {
   "cell_type": "code",
   "execution_count": 6,
   "metadata": {},
   "outputs": [
    {
     "name": "stdout",
     "output_type": "stream",
     "text": [
      "✅ Fichier CSV sauvegardé sous : camille_links_20251019.csv\n"
     ]
    }
   ],
   "source": [
    "\n",
    "# Sauvegarde du DataFrame contenant les liens PDF\n",
    "output_csv = f\"camille_links_{time.strftime('%Y%m%d')}.csv\"\n",
    "df.to_csv(output_csv, index=False)\n",
    "print(f\"✅ Fichier CSV sauvegardé sous : {output_csv}\")\n"
   ]
  },
  {
   "cell_type": "markdown",
   "metadata": {},
   "source": [
    "## Téléchargement du premier pdf"
   ]
  },
  {
   "cell_type": "code",
   "execution_count": 10,
   "metadata": {},
   "outputs": [
    {
     "name": "stderr",
     "output_type": "stream",
     "text": [
      "C:\\Users\\alban\\AppData\\Local\\Temp\\ipykernel_3752\\4058828900.py:2: FutureWarning: Series.__getitem__ treating keys as positions is deprecated. In a future version, integer keys will always be treated as labels (consistent with DataFrame behavior). To access a value by position, use `ser.iloc[pos]`\n",
      "  pdf_url = df.iloc[0][0]  # premier lien PDF\n",
      "c:\\Users\\alban\\Desktop\\Master1-STIC\\BLOC 2\\Traduction automatique des corpus\\tac\\venv\\Lib\\site-packages\\urllib3\\connectionpool.py:1097: InsecureRequestWarning: Unverified HTTPS request is being made to host 'max.de.wilde.web.ulb.be'. Adding certificate verification is strongly advised. See: https://urllib3.readthedocs.io/en/latest/advanced-usage.html#tls-warnings\n",
      "  warnings.warn(\n"
     ]
    },
    {
     "name": "stdout",
     "output_type": "stream",
     "text": [
      "Téléchargement du fichier : KB_JB230_1892-08-07_01-0003.pdf\n",
      "✅ Fichier KB_JB230_1892-08-07_01-0003.pdf téléchargé avec succès.\n"
     ]
    }
   ],
   "source": [
    "# Téléchargement du premier fichier PDF pour test\n",
    "pdf_url = df.iloc[0][0]  # premier lien PDF\n",
    "pdf_name = pdf_url.split(\"/\")[-1]  # nom du fichier à partir de l'URL\n",
    "\n",
    "print(f\"Téléchargement du fichier : {pdf_name}\")\n",
    "\n",
    "response = requests.get(pdf_url, verify=False)\n",
    "\n",
    "# Vérifier que le téléchargement s'est bien passé\n",
    "if response.status_code == 200:\n",
    "    with open(pdf_name, \"wb\") as f:\n",
    "        f.write(response.content)\n",
    "    print(f\"✅ Fichier {pdf_name} téléchargé avec succès.\")\n",
    "else:\n",
    "    print(f\"❌ Échec du téléchargement ({response.status_code}) pour {pdf_url}\")\n"
   ]
  },
  {
   "cell_type": "markdown",
   "metadata": {},
   "source": [
    "## Téléchargement des 51 fichiers pdf"
   ]
  },
  {
   "cell_type": "code",
   "execution_count": 11,
   "metadata": {},
   "outputs": [
    {
     "name": "stdout",
     "output_type": "stream",
     "text": [
      "[01/51] Téléchargement du fichier : KB_JB230_1892-08-07_01-0003.pdf\n"
     ]
    },
    {
     "name": "stderr",
     "output_type": "stream",
     "text": [
      "c:\\Users\\alban\\Desktop\\Master1-STIC\\BLOC 2\\Traduction automatique des corpus\\tac\\venv\\Lib\\site-packages\\urllib3\\connectionpool.py:1097: InsecureRequestWarning: Unverified HTTPS request is being made to host 'max.de.wilde.web.ulb.be'. Adding certificate verification is strongly advised. See: https://urllib3.readthedocs.io/en/latest/advanced-usage.html#tls-warnings\n",
      "  warnings.warn(\n"
     ]
    },
    {
     "name": "stdout",
     "output_type": "stream",
     "text": [
      "✅ Fichier enregistré : KB_JB230_1892-08-07_01-0003.pdf\n",
      "\n",
      "[02/51] Téléchargement du fichier : KB_JB427_1920-01-10_01-00004.pdf\n",
      "✅ Fichier enregistré : KB_JB427_1920-01-10_01-00004.pdf\n",
      "\n"
     ]
    },
    {
     "name": "stderr",
     "output_type": "stream",
     "text": [
      "c:\\Users\\alban\\Desktop\\Master1-STIC\\BLOC 2\\Traduction automatique des corpus\\tac\\venv\\Lib\\site-packages\\urllib3\\connectionpool.py:1097: InsecureRequestWarning: Unverified HTTPS request is being made to host 'max.de.wilde.web.ulb.be'. Adding certificate verification is strongly advised. See: https://urllib3.readthedocs.io/en/latest/advanced-usage.html#tls-warnings\n",
      "  warnings.warn(\n"
     ]
    },
    {
     "name": "stdout",
     "output_type": "stream",
     "text": [
      "[03/51] Téléchargement du fichier : KB_JB555_1836-02-08_01-00002.pdf\n",
      "✅ Fichier enregistré : KB_JB555_1836-02-08_01-00002.pdf\n",
      "\n"
     ]
    },
    {
     "name": "stderr",
     "output_type": "stream",
     "text": [
      "c:\\Users\\alban\\Desktop\\Master1-STIC\\BLOC 2\\Traduction automatique des corpus\\tac\\venv\\Lib\\site-packages\\urllib3\\connectionpool.py:1097: InsecureRequestWarning: Unverified HTTPS request is being made to host 'max.de.wilde.web.ulb.be'. Adding certificate verification is strongly advised. See: https://urllib3.readthedocs.io/en/latest/advanced-usage.html#tls-warnings\n",
      "  warnings.warn(\n"
     ]
    },
    {
     "name": "stdout",
     "output_type": "stream",
     "text": [
      "[04/51] Téléchargement du fichier : KB_JB638_1860-05-21_01-00002.pdf\n",
      "✅ Fichier enregistré : KB_JB638_1860-05-21_01-00002.pdf\n",
      "\n"
     ]
    },
    {
     "name": "stderr",
     "output_type": "stream",
     "text": [
      "c:\\Users\\alban\\Desktop\\Master1-STIC\\BLOC 2\\Traduction automatique des corpus\\tac\\venv\\Lib\\site-packages\\urllib3\\connectionpool.py:1097: InsecureRequestWarning: Unverified HTTPS request is being made to host 'max.de.wilde.web.ulb.be'. Adding certificate verification is strongly advised. See: https://urllib3.readthedocs.io/en/latest/advanced-usage.html#tls-warnings\n",
      "  warnings.warn(\n"
     ]
    },
    {
     "name": "stdout",
     "output_type": "stream",
     "text": [
      "[05/51] Téléchargement du fichier : KB_JB773_1918-11-30_01-00002.pdf\n"
     ]
    },
    {
     "name": "stderr",
     "output_type": "stream",
     "text": [
      "c:\\Users\\alban\\Desktop\\Master1-STIC\\BLOC 2\\Traduction automatique des corpus\\tac\\venv\\Lib\\site-packages\\urllib3\\connectionpool.py:1097: InsecureRequestWarning: Unverified HTTPS request is being made to host 'max.de.wilde.web.ulb.be'. Adding certificate verification is strongly advised. See: https://urllib3.readthedocs.io/en/latest/advanced-usage.html#tls-warnings\n",
      "  warnings.warn(\n"
     ]
    },
    {
     "name": "stdout",
     "output_type": "stream",
     "text": [
      "✅ Fichier enregistré : KB_JB773_1918-11-30_01-00002.pdf\n",
      "\n",
      "[06/51] Téléchargement du fichier : KB_JB838_1887-12-28_01-00003.pdf\n",
      "✅ Fichier enregistré : KB_JB838_1887-12-28_01-00003.pdf\n",
      "\n"
     ]
    },
    {
     "name": "stderr",
     "output_type": "stream",
     "text": [
      "c:\\Users\\alban\\Desktop\\Master1-STIC\\BLOC 2\\Traduction automatique des corpus\\tac\\venv\\Lib\\site-packages\\urllib3\\connectionpool.py:1097: InsecureRequestWarning: Unverified HTTPS request is being made to host 'max.de.wilde.web.ulb.be'. Adding certificate verification is strongly advised. See: https://urllib3.readthedocs.io/en/latest/advanced-usage.html#tls-warnings\n",
      "  warnings.warn(\n"
     ]
    },
    {
     "name": "stdout",
     "output_type": "stream",
     "text": [
      "[07/51] Téléchargement du fichier : KB_JB230_1903-10-16_01-0002.pdf\n"
     ]
    },
    {
     "name": "stderr",
     "output_type": "stream",
     "text": [
      "c:\\Users\\alban\\Desktop\\Master1-STIC\\BLOC 2\\Traduction automatique des corpus\\tac\\venv\\Lib\\site-packages\\urllib3\\connectionpool.py:1097: InsecureRequestWarning: Unverified HTTPS request is being made to host 'max.de.wilde.web.ulb.be'. Adding certificate verification is strongly advised. See: https://urllib3.readthedocs.io/en/latest/advanced-usage.html#tls-warnings\n",
      "  warnings.warn(\n"
     ]
    },
    {
     "name": "stdout",
     "output_type": "stream",
     "text": [
      "✅ Fichier enregistré : KB_JB230_1903-10-16_01-0002.pdf\n",
      "\n",
      "[08/51] Téléchargement du fichier : KB_JB427_1933-01-04_01-00003.pdf\n",
      "✅ Fichier enregistré : KB_JB427_1933-01-04_01-00003.pdf\n",
      "\n"
     ]
    },
    {
     "name": "stderr",
     "output_type": "stream",
     "text": [
      "c:\\Users\\alban\\Desktop\\Master1-STIC\\BLOC 2\\Traduction automatique des corpus\\tac\\venv\\Lib\\site-packages\\urllib3\\connectionpool.py:1097: InsecureRequestWarning: Unverified HTTPS request is being made to host 'max.de.wilde.web.ulb.be'. Adding certificate verification is strongly advised. See: https://urllib3.readthedocs.io/en/latest/advanced-usage.html#tls-warnings\n",
      "  warnings.warn(\n"
     ]
    },
    {
     "name": "stdout",
     "output_type": "stream",
     "text": [
      "[09/51] Téléchargement du fichier : KB_JB555_1899-01-19_01-00003.pdf\n",
      "✅ Fichier enregistré : KB_JB555_1899-01-19_01-00003.pdf\n",
      "\n"
     ]
    },
    {
     "name": "stderr",
     "output_type": "stream",
     "text": [
      "c:\\Users\\alban\\Desktop\\Master1-STIC\\BLOC 2\\Traduction automatique des corpus\\tac\\venv\\Lib\\site-packages\\urllib3\\connectionpool.py:1097: InsecureRequestWarning: Unverified HTTPS request is being made to host 'max.de.wilde.web.ulb.be'. Adding certificate verification is strongly advised. See: https://urllib3.readthedocs.io/en/latest/advanced-usage.html#tls-warnings\n",
      "  warnings.warn(\n"
     ]
    },
    {
     "name": "stdout",
     "output_type": "stream",
     "text": [
      "[10/51] Téléchargement du fichier : KB_JB638_1902-12-20_01-00002.pdf\n",
      "✅ Fichier enregistré : KB_JB638_1902-12-20_01-00002.pdf\n",
      "\n"
     ]
    },
    {
     "name": "stderr",
     "output_type": "stream",
     "text": [
      "c:\\Users\\alban\\Desktop\\Master1-STIC\\BLOC 2\\Traduction automatique des corpus\\tac\\venv\\Lib\\site-packages\\urllib3\\connectionpool.py:1097: InsecureRequestWarning: Unverified HTTPS request is being made to host 'max.de.wilde.web.ulb.be'. Adding certificate verification is strongly advised. See: https://urllib3.readthedocs.io/en/latest/advanced-usage.html#tls-warnings\n",
      "  warnings.warn(\n"
     ]
    },
    {
     "name": "stdout",
     "output_type": "stream",
     "text": [
      "[11/51] Téléchargement du fichier : KB_JB773_1933-10-07_01-00007.pdf\n",
      "✅ Fichier enregistré : KB_JB773_1933-10-07_01-00007.pdf\n",
      "\n"
     ]
    },
    {
     "name": "stderr",
     "output_type": "stream",
     "text": [
      "c:\\Users\\alban\\Desktop\\Master1-STIC\\BLOC 2\\Traduction automatique des corpus\\tac\\venv\\Lib\\site-packages\\urllib3\\connectionpool.py:1097: InsecureRequestWarning: Unverified HTTPS request is being made to host 'max.de.wilde.web.ulb.be'. Adding certificate verification is strongly advised. See: https://urllib3.readthedocs.io/en/latest/advanced-usage.html#tls-warnings\n",
      "  warnings.warn(\n"
     ]
    },
    {
     "name": "stdout",
     "output_type": "stream",
     "text": [
      "[12/51] Téléchargement du fichier : KB_JB838_1911-08-03_01-00006.pdf\n"
     ]
    },
    {
     "name": "stderr",
     "output_type": "stream",
     "text": [
      "c:\\Users\\alban\\Desktop\\Master1-STIC\\BLOC 2\\Traduction automatique des corpus\\tac\\venv\\Lib\\site-packages\\urllib3\\connectionpool.py:1097: InsecureRequestWarning: Unverified HTTPS request is being made to host 'max.de.wilde.web.ulb.be'. Adding certificate verification is strongly advised. See: https://urllib3.readthedocs.io/en/latest/advanced-usage.html#tls-warnings\n",
      "  warnings.warn(\n"
     ]
    },
    {
     "name": "stdout",
     "output_type": "stream",
     "text": [
      "✅ Fichier enregistré : KB_JB838_1911-08-03_01-00006.pdf\n",
      "\n",
      "[13/51] Téléchargement du fichier : KB_JB230_1913-07-05_01-0001.pdf\n"
     ]
    },
    {
     "name": "stderr",
     "output_type": "stream",
     "text": [
      "c:\\Users\\alban\\Desktop\\Master1-STIC\\BLOC 2\\Traduction automatique des corpus\\tac\\venv\\Lib\\site-packages\\urllib3\\connectionpool.py:1097: InsecureRequestWarning: Unverified HTTPS request is being made to host 'max.de.wilde.web.ulb.be'. Adding certificate verification is strongly advised. See: https://urllib3.readthedocs.io/en/latest/advanced-usage.html#tls-warnings\n",
      "  warnings.warn(\n"
     ]
    },
    {
     "name": "stdout",
     "output_type": "stream",
     "text": [
      "✅ Fichier enregistré : KB_JB230_1913-07-05_01-0001.pdf\n",
      "\n",
      "[14/51] Téléchargement du fichier : KB_JB427_1949-07-18_01-00008.pdf\n",
      "✅ Fichier enregistré : KB_JB427_1949-07-18_01-00008.pdf\n",
      "\n"
     ]
    },
    {
     "name": "stderr",
     "output_type": "stream",
     "text": [
      "c:\\Users\\alban\\Desktop\\Master1-STIC\\BLOC 2\\Traduction automatique des corpus\\tac\\venv\\Lib\\site-packages\\urllib3\\connectionpool.py:1097: InsecureRequestWarning: Unverified HTTPS request is being made to host 'max.de.wilde.web.ulb.be'. Adding certificate verification is strongly advised. See: https://urllib3.readthedocs.io/en/latest/advanced-usage.html#tls-warnings\n",
      "  warnings.warn(\n"
     ]
    },
    {
     "name": "stdout",
     "output_type": "stream",
     "text": [
      "[15/51] Téléchargement du fichier : KB_JB555_1940-03-01_01-00004.pdf\n",
      "✅ Fichier enregistré : KB_JB555_1940-03-01_01-00004.pdf\n",
      "\n"
     ]
    },
    {
     "name": "stderr",
     "output_type": "stream",
     "text": [
      "c:\\Users\\alban\\Desktop\\Master1-STIC\\BLOC 2\\Traduction automatique des corpus\\tac\\venv\\Lib\\site-packages\\urllib3\\connectionpool.py:1097: InsecureRequestWarning: Unverified HTTPS request is being made to host 'max.de.wilde.web.ulb.be'. Adding certificate verification is strongly advised. See: https://urllib3.readthedocs.io/en/latest/advanced-usage.html#tls-warnings\n",
      "  warnings.warn(\n"
     ]
    },
    {
     "name": "stdout",
     "output_type": "stream",
     "text": [
      "[16/51] Téléchargement du fichier : KB_JB638_1946-07-18_01-00003.pdf\n",
      "✅ Fichier enregistré : KB_JB638_1946-07-18_01-00003.pdf\n",
      "\n"
     ]
    },
    {
     "name": "stderr",
     "output_type": "stream",
     "text": [
      "c:\\Users\\alban\\Desktop\\Master1-STIC\\BLOC 2\\Traduction automatique des corpus\\tac\\venv\\Lib\\site-packages\\urllib3\\connectionpool.py:1097: InsecureRequestWarning: Unverified HTTPS request is being made to host 'max.de.wilde.web.ulb.be'. Adding certificate verification is strongly advised. See: https://urllib3.readthedocs.io/en/latest/advanced-usage.html#tls-warnings\n",
      "  warnings.warn(\n"
     ]
    },
    {
     "name": "stdout",
     "output_type": "stream",
     "text": [
      "[17/51] Téléchargement du fichier : KB_JB773_1950-07-22_01-00010.pdf\n",
      "✅ Fichier enregistré : KB_JB773_1950-07-22_01-00010.pdf\n",
      "\n"
     ]
    },
    {
     "name": "stderr",
     "output_type": "stream",
     "text": [
      "c:\\Users\\alban\\Desktop\\Master1-STIC\\BLOC 2\\Traduction automatique des corpus\\tac\\venv\\Lib\\site-packages\\urllib3\\connectionpool.py:1097: InsecureRequestWarning: Unverified HTTPS request is being made to host 'max.de.wilde.web.ulb.be'. Adding certificate verification is strongly advised. See: https://urllib3.readthedocs.io/en/latest/advanced-usage.html#tls-warnings\n",
      "  warnings.warn(\n"
     ]
    },
    {
     "name": "stdout",
     "output_type": "stream",
     "text": [
      "[18/51] Téléchargement du fichier : KB_JB838_1943-09-04_01-00002.pdf\n"
     ]
    },
    {
     "name": "stderr",
     "output_type": "stream",
     "text": [
      "c:\\Users\\alban\\Desktop\\Master1-STIC\\BLOC 2\\Traduction automatique des corpus\\tac\\venv\\Lib\\site-packages\\urllib3\\connectionpool.py:1097: InsecureRequestWarning: Unverified HTTPS request is being made to host 'max.de.wilde.web.ulb.be'. Adding certificate verification is strongly advised. See: https://urllib3.readthedocs.io/en/latest/advanced-usage.html#tls-warnings\n",
      "  warnings.warn(\n"
     ]
    },
    {
     "name": "stdout",
     "output_type": "stream",
     "text": [
      "✅ Fichier enregistré : KB_JB838_1943-09-04_01-00002.pdf\n",
      "\n",
      "[19/51] Téléchargement du fichier : KB_JB258_1884-09-03_01-0003.pdf\n",
      "✅ Fichier enregistré : KB_JB258_1884-09-03_01-0003.pdf\n",
      "\n"
     ]
    },
    {
     "name": "stderr",
     "output_type": "stream",
     "text": [
      "c:\\Users\\alban\\Desktop\\Master1-STIC\\BLOC 2\\Traduction automatique des corpus\\tac\\venv\\Lib\\site-packages\\urllib3\\connectionpool.py:1097: InsecureRequestWarning: Unverified HTTPS request is being made to host 'max.de.wilde.web.ulb.be'. Adding certificate verification is strongly advised. See: https://urllib3.readthedocs.io/en/latest/advanced-usage.html#tls-warnings\n",
      "  warnings.warn(\n"
     ]
    },
    {
     "name": "stdout",
     "output_type": "stream",
     "text": [
      "[20/51] Téléchargement du fichier : KB_JB449_1846-05-30_01-00002.pdf\n",
      "✅ Fichier enregistré : KB_JB449_1846-05-30_01-00002.pdf\n",
      "\n"
     ]
    },
    {
     "name": "stderr",
     "output_type": "stream",
     "text": [
      "c:\\Users\\alban\\Desktop\\Master1-STIC\\BLOC 2\\Traduction automatique des corpus\\tac\\venv\\Lib\\site-packages\\urllib3\\connectionpool.py:1097: InsecureRequestWarning: Unverified HTTPS request is being made to host 'max.de.wilde.web.ulb.be'. Adding certificate verification is strongly advised. See: https://urllib3.readthedocs.io/en/latest/advanced-usage.html#tls-warnings\n",
      "  warnings.warn(\n"
     ]
    },
    {
     "name": "stdout",
     "output_type": "stream",
     "text": [
      "[21/51] Téléchargement du fichier : KB_JB567_1857-02-02_01-00003.pdf\n",
      "✅ Fichier enregistré : KB_JB567_1857-02-02_01-00003.pdf\n",
      "\n"
     ]
    },
    {
     "name": "stderr",
     "output_type": "stream",
     "text": [
      "c:\\Users\\alban\\Desktop\\Master1-STIC\\BLOC 2\\Traduction automatique des corpus\\tac\\venv\\Lib\\site-packages\\urllib3\\connectionpool.py:1097: InsecureRequestWarning: Unverified HTTPS request is being made to host 'max.de.wilde.web.ulb.be'. Adding certificate verification is strongly advised. See: https://urllib3.readthedocs.io/en/latest/advanced-usage.html#tls-warnings\n",
      "  warnings.warn(\n"
     ]
    },
    {
     "name": "stdout",
     "output_type": "stream",
     "text": [
      "[22/51] Téléchargement du fichier : KB_JB685_1894-05-14_01-0003.pdf\n"
     ]
    },
    {
     "name": "stderr",
     "output_type": "stream",
     "text": [
      "c:\\Users\\alban\\Desktop\\Master1-STIC\\BLOC 2\\Traduction automatique des corpus\\tac\\venv\\Lib\\site-packages\\urllib3\\connectionpool.py:1097: InsecureRequestWarning: Unverified HTTPS request is being made to host 'max.de.wilde.web.ulb.be'. Adding certificate verification is strongly advised. See: https://urllib3.readthedocs.io/en/latest/advanced-usage.html#tls-warnings\n",
      "  warnings.warn(\n"
     ]
    },
    {
     "name": "stdout",
     "output_type": "stream",
     "text": [
      "✅ Fichier enregistré : KB_JB685_1894-05-14_01-0003.pdf\n",
      "\n",
      "[23/51] Téléchargement du fichier : KB_JB835_1911-04-24_01-00004.pdf\n",
      "✅ Fichier enregistré : KB_JB835_1911-04-24_01-00004.pdf\n",
      "\n"
     ]
    },
    {
     "name": "stderr",
     "output_type": "stream",
     "text": [
      "c:\\Users\\alban\\Desktop\\Master1-STIC\\BLOC 2\\Traduction automatique des corpus\\tac\\venv\\Lib\\site-packages\\urllib3\\connectionpool.py:1097: InsecureRequestWarning: Unverified HTTPS request is being made to host 'max.de.wilde.web.ulb.be'. Adding certificate verification is strongly advised. See: https://urllib3.readthedocs.io/en/latest/advanced-usage.html#tls-warnings\n",
      "  warnings.warn(\n"
     ]
    },
    {
     "name": "stdout",
     "output_type": "stream",
     "text": [
      "[24/51] Téléchargement du fichier : KB_JB92_1860-02-09_01-00003.pdf\n"
     ]
    },
    {
     "name": "stderr",
     "output_type": "stream",
     "text": [
      "c:\\Users\\alban\\Desktop\\Master1-STIC\\BLOC 2\\Traduction automatique des corpus\\tac\\venv\\Lib\\site-packages\\urllib3\\connectionpool.py:1097: InsecureRequestWarning: Unverified HTTPS request is being made to host 'max.de.wilde.web.ulb.be'. Adding certificate verification is strongly advised. See: https://urllib3.readthedocs.io/en/latest/advanced-usage.html#tls-warnings\n",
      "  warnings.warn(\n"
     ]
    },
    {
     "name": "stdout",
     "output_type": "stream",
     "text": [
      "✅ Fichier enregistré : KB_JB92_1860-02-09_01-00003.pdf\n",
      "\n",
      "[25/51] Téléchargement du fichier : KB_JB258_1894-12-09_01-0003.pdf\n"
     ]
    },
    {
     "name": "stderr",
     "output_type": "stream",
     "text": [
      "c:\\Users\\alban\\Desktop\\Master1-STIC\\BLOC 2\\Traduction automatique des corpus\\tac\\venv\\Lib\\site-packages\\urllib3\\connectionpool.py:1097: InsecureRequestWarning: Unverified HTTPS request is being made to host 'max.de.wilde.web.ulb.be'. Adding certificate verification is strongly advised. See: https://urllib3.readthedocs.io/en/latest/advanced-usage.html#tls-warnings\n",
      "  warnings.warn(\n"
     ]
    },
    {
     "name": "stdout",
     "output_type": "stream",
     "text": [
      "✅ Fichier enregistré : KB_JB258_1894-12-09_01-0003.pdf\n",
      "\n",
      "[26/51] Téléchargement du fichier : KB_JB449_1912-01-04_01-00003.pdf\n",
      "✅ Fichier enregistré : KB_JB449_1912-01-04_01-00003.pdf\n",
      "\n"
     ]
    },
    {
     "name": "stderr",
     "output_type": "stream",
     "text": [
      "c:\\Users\\alban\\Desktop\\Master1-STIC\\BLOC 2\\Traduction automatique des corpus\\tac\\venv\\Lib\\site-packages\\urllib3\\connectionpool.py:1097: InsecureRequestWarning: Unverified HTTPS request is being made to host 'max.de.wilde.web.ulb.be'. Adding certificate verification is strongly advised. See: https://urllib3.readthedocs.io/en/latest/advanced-usage.html#tls-warnings\n",
      "  warnings.warn(\n"
     ]
    },
    {
     "name": "stdout",
     "output_type": "stream",
     "text": [
      "[27/51] Téléchargement du fichier : KB_JB567_1892-01-03_01-00005.pdf\n"
     ]
    },
    {
     "name": "stderr",
     "output_type": "stream",
     "text": [
      "c:\\Users\\alban\\Desktop\\Master1-STIC\\BLOC 2\\Traduction automatique des corpus\\tac\\venv\\Lib\\site-packages\\urllib3\\connectionpool.py:1097: InsecureRequestWarning: Unverified HTTPS request is being made to host 'max.de.wilde.web.ulb.be'. Adding certificate verification is strongly advised. See: https://urllib3.readthedocs.io/en/latest/advanced-usage.html#tls-warnings\n",
      "  warnings.warn(\n"
     ]
    },
    {
     "name": "stdout",
     "output_type": "stream",
     "text": [
      "✅ Fichier enregistré : KB_JB567_1892-01-03_01-00005.pdf\n",
      "\n",
      "[28/51] Téléchargement du fichier : KB_JB685_1903-01-18_01-0002.pdf\n"
     ]
    },
    {
     "name": "stderr",
     "output_type": "stream",
     "text": [
      "c:\\Users\\alban\\Desktop\\Master1-STIC\\BLOC 2\\Traduction automatique des corpus\\tac\\venv\\Lib\\site-packages\\urllib3\\connectionpool.py:1097: InsecureRequestWarning: Unverified HTTPS request is being made to host 'max.de.wilde.web.ulb.be'. Adding certificate verification is strongly advised. See: https://urllib3.readthedocs.io/en/latest/advanced-usage.html#tls-warnings\n",
      "  warnings.warn(\n"
     ]
    },
    {
     "name": "stdout",
     "output_type": "stream",
     "text": [
      "✅ Fichier enregistré : KB_JB685_1903-01-18_01-0002.pdf\n",
      "\n",
      "[29/51] Téléchargement du fichier : KB_JB835_1930-04-08_01-00006.pdf\n",
      "✅ Fichier enregistré : KB_JB835_1930-04-08_01-00006.pdf\n",
      "\n"
     ]
    },
    {
     "name": "stderr",
     "output_type": "stream",
     "text": [
      "c:\\Users\\alban\\Desktop\\Master1-STIC\\BLOC 2\\Traduction automatique des corpus\\tac\\venv\\Lib\\site-packages\\urllib3\\connectionpool.py:1097: InsecureRequestWarning: Unverified HTTPS request is being made to host 'max.de.wilde.web.ulb.be'. Adding certificate verification is strongly advised. See: https://urllib3.readthedocs.io/en/latest/advanced-usage.html#tls-warnings\n",
      "  warnings.warn(\n"
     ]
    },
    {
     "name": "stdout",
     "output_type": "stream",
     "text": [
      "[30/51] Téléchargement du fichier : KB_JB92_1873-02-06_01-00002.pdf\n"
     ]
    },
    {
     "name": "stderr",
     "output_type": "stream",
     "text": [
      "c:\\Users\\alban\\Desktop\\Master1-STIC\\BLOC 2\\Traduction automatique des corpus\\tac\\venv\\Lib\\site-packages\\urllib3\\connectionpool.py:1097: InsecureRequestWarning: Unverified HTTPS request is being made to host 'max.de.wilde.web.ulb.be'. Adding certificate verification is strongly advised. See: https://urllib3.readthedocs.io/en/latest/advanced-usage.html#tls-warnings\n",
      "  warnings.warn(\n"
     ]
    },
    {
     "name": "stdout",
     "output_type": "stream",
     "text": [
      "✅ Fichier enregistré : KB_JB92_1873-02-06_01-00002.pdf\n",
      "\n",
      "[31/51] Téléchargement du fichier : KB_JB258_1906-01-09_01-0002.pdf\n"
     ]
    },
    {
     "name": "stderr",
     "output_type": "stream",
     "text": [
      "c:\\Users\\alban\\Desktop\\Master1-STIC\\BLOC 2\\Traduction automatique des corpus\\tac\\venv\\Lib\\site-packages\\urllib3\\connectionpool.py:1097: InsecureRequestWarning: Unverified HTTPS request is being made to host 'max.de.wilde.web.ulb.be'. Adding certificate verification is strongly advised. See: https://urllib3.readthedocs.io/en/latest/advanced-usage.html#tls-warnings\n",
      "  warnings.warn(\n"
     ]
    },
    {
     "name": "stdout",
     "output_type": "stream",
     "text": [
      "✅ Fichier enregistré : KB_JB258_1906-01-09_01-0002.pdf\n",
      "\n",
      "[32/51] Téléchargement du fichier : KB_JB449_1947-08-29_01-00003.pdf\n",
      "✅ Fichier enregistré : KB_JB449_1947-08-29_01-00003.pdf\n",
      "\n"
     ]
    },
    {
     "name": "stderr",
     "output_type": "stream",
     "text": [
      "c:\\Users\\alban\\Desktop\\Master1-STIC\\BLOC 2\\Traduction automatique des corpus\\tac\\venv\\Lib\\site-packages\\urllib3\\connectionpool.py:1097: InsecureRequestWarning: Unverified HTTPS request is being made to host 'max.de.wilde.web.ulb.be'. Adding certificate verification is strongly advised. See: https://urllib3.readthedocs.io/en/latest/advanced-usage.html#tls-warnings\n",
      "  warnings.warn(\n"
     ]
    },
    {
     "name": "stdout",
     "output_type": "stream",
     "text": [
      "[33/51] Téléchargement du fichier : KB_JB567_1924-08-30_01-00003.pdf\n",
      "✅ Fichier enregistré : KB_JB567_1924-08-30_01-00003.pdf\n",
      "\n"
     ]
    },
    {
     "name": "stderr",
     "output_type": "stream",
     "text": [
      "c:\\Users\\alban\\Desktop\\Master1-STIC\\BLOC 2\\Traduction automatique des corpus\\tac\\venv\\Lib\\site-packages\\urllib3\\connectionpool.py:1097: InsecureRequestWarning: Unverified HTTPS request is being made to host 'max.de.wilde.web.ulb.be'. Adding certificate verification is strongly advised. See: https://urllib3.readthedocs.io/en/latest/advanced-usage.html#tls-warnings\n",
      "  warnings.warn(\n"
     ]
    },
    {
     "name": "stdout",
     "output_type": "stream",
     "text": [
      "[34/51] Téléchargement du fichier : KB_JB685_1913-06-07_01-0006.pdf\n"
     ]
    },
    {
     "name": "stderr",
     "output_type": "stream",
     "text": [
      "c:\\Users\\alban\\Desktop\\Master1-STIC\\BLOC 2\\Traduction automatique des corpus\\tac\\venv\\Lib\\site-packages\\urllib3\\connectionpool.py:1097: InsecureRequestWarning: Unverified HTTPS request is being made to host 'max.de.wilde.web.ulb.be'. Adding certificate verification is strongly advised. See: https://urllib3.readthedocs.io/en/latest/advanced-usage.html#tls-warnings\n",
      "  warnings.warn(\n"
     ]
    },
    {
     "name": "stdout",
     "output_type": "stream",
     "text": [
      "✅ Fichier enregistré : KB_JB685_1913-06-07_01-0006.pdf\n",
      "\n",
      "[35/51] Téléchargement du fichier : KB_JB835_1949-09-18_01-00004.pdf\n",
      "✅ Fichier enregistré : KB_JB835_1949-09-18_01-00004.pdf\n",
      "\n"
     ]
    },
    {
     "name": "stderr",
     "output_type": "stream",
     "text": [
      "c:\\Users\\alban\\Desktop\\Master1-STIC\\BLOC 2\\Traduction automatique des corpus\\tac\\venv\\Lib\\site-packages\\urllib3\\connectionpool.py:1097: InsecureRequestWarning: Unverified HTTPS request is being made to host 'max.de.wilde.web.ulb.be'. Adding certificate verification is strongly advised. See: https://urllib3.readthedocs.io/en/latest/advanced-usage.html#tls-warnings\n",
      "  warnings.warn(\n"
     ]
    },
    {
     "name": "stdout",
     "output_type": "stream",
     "text": [
      "[36/51] Téléchargement du fichier : KB_JB92_1885-09-29_01-00002.pdf\n",
      "✅ Fichier enregistré : KB_JB92_1885-09-29_01-00002.pdf\n",
      "\n"
     ]
    },
    {
     "name": "stderr",
     "output_type": "stream",
     "text": [
      "c:\\Users\\alban\\Desktop\\Master1-STIC\\BLOC 2\\Traduction automatique des corpus\\tac\\venv\\Lib\\site-packages\\urllib3\\connectionpool.py:1097: InsecureRequestWarning: Unverified HTTPS request is being made to host 'max.de.wilde.web.ulb.be'. Adding certificate verification is strongly advised. See: https://urllib3.readthedocs.io/en/latest/advanced-usage.html#tls-warnings\n",
      "  warnings.warn(\n"
     ]
    },
    {
     "name": "stdout",
     "output_type": "stream",
     "text": [
      "[37/51] Téléchargement du fichier : KB_JB421_1899-05-15_01-00003.pdf\n",
      "✅ Fichier enregistré : KB_JB421_1899-05-15_01-00003.pdf\n",
      "\n"
     ]
    },
    {
     "name": "stderr",
     "output_type": "stream",
     "text": [
      "c:\\Users\\alban\\Desktop\\Master1-STIC\\BLOC 2\\Traduction automatique des corpus\\tac\\venv\\Lib\\site-packages\\urllib3\\connectionpool.py:1097: InsecureRequestWarning: Unverified HTTPS request is being made to host 'max.de.wilde.web.ulb.be'. Adding certificate verification is strongly advised. See: https://urllib3.readthedocs.io/en/latest/advanced-usage.html#tls-warnings\n",
      "  warnings.warn(\n"
     ]
    },
    {
     "name": "stdout",
     "output_type": "stream",
     "text": [
      "[38/51] Téléchargement du fichier : KB_JB494_1853-10-30_01-0002.pdf\n"
     ]
    },
    {
     "name": "stderr",
     "output_type": "stream",
     "text": [
      "c:\\Users\\alban\\Desktop\\Master1-STIC\\BLOC 2\\Traduction automatique des corpus\\tac\\venv\\Lib\\site-packages\\urllib3\\connectionpool.py:1097: InsecureRequestWarning: Unverified HTTPS request is being made to host 'max.de.wilde.web.ulb.be'. Adding certificate verification is strongly advised. See: https://urllib3.readthedocs.io/en/latest/advanced-usage.html#tls-warnings\n",
      "  warnings.warn(\n"
     ]
    },
    {
     "name": "stdout",
     "output_type": "stream",
     "text": [
      "✅ Fichier enregistré : KB_JB494_1853-10-30_01-0002.pdf\n",
      "\n",
      "[39/51] Téléchargement du fichier : KB_JB572_1850-03-15_01-00003.pdf\n",
      "✅ Fichier enregistré : KB_JB572_1850-03-15_01-00003.pdf\n",
      "\n"
     ]
    },
    {
     "name": "stderr",
     "output_type": "stream",
     "text": [
      "c:\\Users\\alban\\Desktop\\Master1-STIC\\BLOC 2\\Traduction automatique des corpus\\tac\\venv\\Lib\\site-packages\\urllib3\\connectionpool.py:1097: InsecureRequestWarning: Unverified HTTPS request is being made to host 'max.de.wilde.web.ulb.be'. Adding certificate verification is strongly advised. See: https://urllib3.readthedocs.io/en/latest/advanced-usage.html#tls-warnings\n",
      "  warnings.warn(\n"
     ]
    },
    {
     "name": "stdout",
     "output_type": "stream",
     "text": [
      "[40/51] Téléchargement du fichier : KB_JB729_1895-10-08_01-00003.pdf\n",
      "✅ Fichier enregistré : KB_JB729_1895-10-08_01-00003.pdf\n",
      "\n"
     ]
    },
    {
     "name": "stderr",
     "output_type": "stream",
     "text": [
      "c:\\Users\\alban\\Desktop\\Master1-STIC\\BLOC 2\\Traduction automatique des corpus\\tac\\venv\\Lib\\site-packages\\urllib3\\connectionpool.py:1097: InsecureRequestWarning: Unverified HTTPS request is being made to host 'max.de.wilde.web.ulb.be'. Adding certificate verification is strongly advised. See: https://urllib3.readthedocs.io/en/latest/advanced-usage.html#tls-warnings\n",
      "  warnings.warn(\n"
     ]
    },
    {
     "name": "stdout",
     "output_type": "stream",
     "text": [
      "[41/51] Téléchargement du fichier : KB_JB837_1886-12-28_01-00002.pdf\n",
      "✅ Fichier enregistré : KB_JB837_1886-12-28_01-00002.pdf\n",
      "\n"
     ]
    },
    {
     "name": "stderr",
     "output_type": "stream",
     "text": [
      "c:\\Users\\alban\\Desktop\\Master1-STIC\\BLOC 2\\Traduction automatique des corpus\\tac\\venv\\Lib\\site-packages\\urllib3\\connectionpool.py:1097: InsecureRequestWarning: Unverified HTTPS request is being made to host 'max.de.wilde.web.ulb.be'. Adding certificate verification is strongly advised. See: https://urllib3.readthedocs.io/en/latest/advanced-usage.html#tls-warnings\n",
      "  warnings.warn(\n"
     ]
    },
    {
     "name": "stdout",
     "output_type": "stream",
     "text": [
      "[42/51] Téléchargement du fichier : KB_JB421_1926-10-29_01-00002.pdf\n"
     ]
    },
    {
     "name": "stderr",
     "output_type": "stream",
     "text": [
      "c:\\Users\\alban\\Desktop\\Master1-STIC\\BLOC 2\\Traduction automatique des corpus\\tac\\venv\\Lib\\site-packages\\urllib3\\connectionpool.py:1097: InsecureRequestWarning: Unverified HTTPS request is being made to host 'max.de.wilde.web.ulb.be'. Adding certificate verification is strongly advised. See: https://urllib3.readthedocs.io/en/latest/advanced-usage.html#tls-warnings\n",
      "  warnings.warn(\n"
     ]
    },
    {
     "name": "stdout",
     "output_type": "stream",
     "text": [
      "✅ Fichier enregistré : KB_JB421_1926-10-29_01-00002.pdf\n",
      "\n",
      "[43/51] Téléchargement du fichier : KB_JB494_1922-09-28_01-0005.pdf\n"
     ]
    },
    {
     "name": "stderr",
     "output_type": "stream",
     "text": [
      "c:\\Users\\alban\\Desktop\\Master1-STIC\\BLOC 2\\Traduction automatique des corpus\\tac\\venv\\Lib\\site-packages\\urllib3\\connectionpool.py:1097: InsecureRequestWarning: Unverified HTTPS request is being made to host 'max.de.wilde.web.ulb.be'. Adding certificate verification is strongly advised. See: https://urllib3.readthedocs.io/en/latest/advanced-usage.html#tls-warnings\n",
      "  warnings.warn(\n"
     ]
    },
    {
     "name": "stdout",
     "output_type": "stream",
     "text": [
      "✅ Fichier enregistré : KB_JB494_1922-09-28_01-0005.pdf\n",
      "\n",
      "[44/51] Téléchargement du fichier : KB_JB572_1927-07-20_01-00005.pdf\n",
      "✅ Fichier enregistré : KB_JB572_1927-07-20_01-00005.pdf\n",
      "\n"
     ]
    },
    {
     "name": "stderr",
     "output_type": "stream",
     "text": [
      "c:\\Users\\alban\\Desktop\\Master1-STIC\\BLOC 2\\Traduction automatique des corpus\\tac\\venv\\Lib\\site-packages\\urllib3\\connectionpool.py:1097: InsecureRequestWarning: Unverified HTTPS request is being made to host 'max.de.wilde.web.ulb.be'. Adding certificate verification is strongly advised. See: https://urllib3.readthedocs.io/en/latest/advanced-usage.html#tls-warnings\n",
      "  warnings.warn(\n"
     ]
    },
    {
     "name": "stdout",
     "output_type": "stream",
     "text": [
      "[45/51] Téléchargement du fichier : KB_JB729_1927-11-15_01-00004.pdf\n",
      "✅ Fichier enregistré : KB_JB729_1927-11-15_01-00004.pdf\n",
      "\n"
     ]
    },
    {
     "name": "stderr",
     "output_type": "stream",
     "text": [
      "c:\\Users\\alban\\Desktop\\Master1-STIC\\BLOC 2\\Traduction automatique des corpus\\tac\\venv\\Lib\\site-packages\\urllib3\\connectionpool.py:1097: InsecureRequestWarning: Unverified HTTPS request is being made to host 'max.de.wilde.web.ulb.be'. Adding certificate verification is strongly advised. See: https://urllib3.readthedocs.io/en/latest/advanced-usage.html#tls-warnings\n",
      "  warnings.warn(\n"
     ]
    },
    {
     "name": "stdout",
     "output_type": "stream",
     "text": [
      "[46/51] Téléchargement du fichier : KB_JB837_1925-01-01_01-00003.pdf\n",
      "✅ Fichier enregistré : KB_JB837_1925-01-01_01-00003.pdf\n",
      "\n"
     ]
    },
    {
     "name": "stderr",
     "output_type": "stream",
     "text": [
      "c:\\Users\\alban\\Desktop\\Master1-STIC\\BLOC 2\\Traduction automatique des corpus\\tac\\venv\\Lib\\site-packages\\urllib3\\connectionpool.py:1097: InsecureRequestWarning: Unverified HTTPS request is being made to host 'max.de.wilde.web.ulb.be'. Adding certificate verification is strongly advised. See: https://urllib3.readthedocs.io/en/latest/advanced-usage.html#tls-warnings\n",
      "  warnings.warn(\n"
     ]
    },
    {
     "name": "stdout",
     "output_type": "stream",
     "text": [
      "[47/51] Téléchargement du fichier : KB_JB421_1950-04-15_01-00004.pdf\n",
      "✅ Fichier enregistré : KB_JB421_1950-04-15_01-00004.pdf\n",
      "\n"
     ]
    },
    {
     "name": "stderr",
     "output_type": "stream",
     "text": [
      "c:\\Users\\alban\\Desktop\\Master1-STIC\\BLOC 2\\Traduction automatique des corpus\\tac\\venv\\Lib\\site-packages\\urllib3\\connectionpool.py:1097: InsecureRequestWarning: Unverified HTTPS request is being made to host 'max.de.wilde.web.ulb.be'. Adding certificate verification is strongly advised. See: https://urllib3.readthedocs.io/en/latest/advanced-usage.html#tls-warnings\n",
      "  warnings.warn(\n"
     ]
    },
    {
     "name": "stdout",
     "output_type": "stream",
     "text": [
      "[48/51] Téléchargement du fichier : KB_JB494_1939-12-08_01-0004.pdf\n"
     ]
    },
    {
     "name": "stderr",
     "output_type": "stream",
     "text": [
      "c:\\Users\\alban\\Desktop\\Master1-STIC\\BLOC 2\\Traduction automatique des corpus\\tac\\venv\\Lib\\site-packages\\urllib3\\connectionpool.py:1097: InsecureRequestWarning: Unverified HTTPS request is being made to host 'max.de.wilde.web.ulb.be'. Adding certificate verification is strongly advised. See: https://urllib3.readthedocs.io/en/latest/advanced-usage.html#tls-warnings\n",
      "  warnings.warn(\n"
     ]
    },
    {
     "name": "stdout",
     "output_type": "stream",
     "text": [
      "✅ Fichier enregistré : KB_JB494_1939-12-08_01-0004.pdf\n",
      "\n",
      "[49/51] Téléchargement du fichier : KB_JB572_1950-06-07_01-00004.pdf\n",
      "✅ Fichier enregistré : KB_JB572_1950-06-07_01-00004.pdf\n",
      "\n"
     ]
    },
    {
     "name": "stderr",
     "output_type": "stream",
     "text": [
      "c:\\Users\\alban\\Desktop\\Master1-STIC\\BLOC 2\\Traduction automatique des corpus\\tac\\venv\\Lib\\site-packages\\urllib3\\connectionpool.py:1097: InsecureRequestWarning: Unverified HTTPS request is being made to host 'max.de.wilde.web.ulb.be'. Adding certificate verification is strongly advised. See: https://urllib3.readthedocs.io/en/latest/advanced-usage.html#tls-warnings\n",
      "  warnings.warn(\n"
     ]
    },
    {
     "name": "stdout",
     "output_type": "stream",
     "text": [
      "[50/51] Téléchargement du fichier : KB_JB729_1939-10-31_01-00006.pdf\n",
      "✅ Fichier enregistré : KB_JB729_1939-10-31_01-00006.pdf\n",
      "\n"
     ]
    },
    {
     "name": "stderr",
     "output_type": "stream",
     "text": [
      "c:\\Users\\alban\\Desktop\\Master1-STIC\\BLOC 2\\Traduction automatique des corpus\\tac\\venv\\Lib\\site-packages\\urllib3\\connectionpool.py:1097: InsecureRequestWarning: Unverified HTTPS request is being made to host 'max.de.wilde.web.ulb.be'. Adding certificate verification is strongly advised. See: https://urllib3.readthedocs.io/en/latest/advanced-usage.html#tls-warnings\n",
      "  warnings.warn(\n"
     ]
    },
    {
     "name": "stdout",
     "output_type": "stream",
     "text": [
      "[51/51] Téléchargement du fichier : KB_JB837_1950-12-01_01-00007.pdf\n",
      "✅ Fichier enregistré : KB_JB837_1950-12-01_01-00007.pdf\n",
      "\n"
     ]
    },
    {
     "name": "stderr",
     "output_type": "stream",
     "text": [
      "c:\\Users\\alban\\Desktop\\Master1-STIC\\BLOC 2\\Traduction automatique des corpus\\tac\\venv\\Lib\\site-packages\\urllib3\\connectionpool.py:1097: InsecureRequestWarning: Unverified HTTPS request is being made to host 'max.de.wilde.web.ulb.be'. Adding certificate verification is strongly advised. See: https://urllib3.readthedocs.io/en/latest/advanced-usage.html#tls-warnings\n",
      "  warnings.warn(\n"
     ]
    },
    {
     "name": "stdout",
     "output_type": "stream",
     "text": [
      "🎯 Téléchargement terminé pour tous les fichiers disponibles !\n"
     ]
    }
   ],
   "source": [
    "os.makedirs(\"pdf_camille\", exist_ok=True)\n",
    "for i, pdf_url in enumerate(df.iloc[:, 0]):  # prend la 1ʳᵉ colonne du DataFrame\n",
    "    pdf_name = pdf_url.split(\"/\")[-1]  # nom du fichier\n",
    "    pdf_path = os.path.join(\"pdf_camille\", pdf_name)\n",
    "\n",
    "    print(f\"[{i+1:02d}/51] Téléchargement du fichier : {pdf_name}\")\n",
    "\n",
    "    try:\n",
    "        # Envoi de la requête HTTP\n",
    "        response = requests.get(pdf_url, verify=False, timeout=20)\n",
    "\n",
    "        if response.status_code == 200:\n",
    "            with open(pdf_path, \"wb\") as f:\n",
    "                f.write(response.content)\n",
    "            print(f\"✅ Fichier enregistré : {pdf_name}\\n\")\n",
    "        else:\n",
    "            print(f\"Échec ({response.status_code}) pour {pdf_url}\\n\")\n",
    "\n",
    "    except Exception as e:\n",
    "        print(f\" Erreur pour {pdf_url} : {e}\\n\")\n",
    "\n",
    "    # Petite pause entre les téléchargements pour éviter la surcharge du serveur\n",
    "    time.sleep(1)\n",
    "\n",
    "print(\"Téléchargement terminé pour tous les fichiers disponibles !\")"
   ]
  },
  {
   "cell_type": "markdown",
   "metadata": {},
   "source": [
    "### Nettoyage du texte à l'aide d'expressions régulières"
   ]
  },
  {
   "cell_type": "code",
   "execution_count": 15,
   "metadata": {},
   "outputs": [],
   "source": [
    "# Suppression de tout ce qui se trouve entre parenthèses\n",
    "#clean_content = re.sub(\"\\([^\\)]+\\)\", \" \", content)\n",
    "# Suppression des espaces multiples\n",
    "#clean_content = re.sub(\"\\s+\", \" \", clean_content)\n",
    "\n",
    "#print(content)\n",
    "#print(\"==================================\")\n",
    "#print(clean_content)\n"
   ]
  },
  {
   "cell_type": "markdown",
   "metadata": {},
   "source": [
    "### Création d'un fichier avec le contenu de l'article\n"
   ]
  },
  {
   "cell_type": "code",
   "execution_count": 17,
   "metadata": {},
   "outputs": [],
   "source": [
    "#with open(\"../data/rtbf_example.txt\", \"w\") as writer:\n",
    "    #writer.write(f\"{title}\\n\\n{clean_content}\")"
   ]
  },
  {
   "cell_type": "markdown",
   "metadata": {},
   "source": [
    "## Pour en savoir plus"
   ]
  },
  {
   "cell_type": "markdown",
   "metadata": {},
   "source": [
    "- Le web scraping avec Python: https://realpython.com/beautiful-soup-web-scraper-python/\n",
    "- Tutoriel sur les expressions régulières: https://www.w3schools.com/python/python_regex.asp"
   ]
  }
 ],
 "metadata": {
  "kernelspec": {
   "display_name": "venv",
   "language": "python",
   "name": "python3"
  },
  "language_info": {
   "codemirror_mode": {
    "name": "ipython",
    "version": 3
   },
   "file_extension": ".py",
   "mimetype": "text/x-python",
   "name": "python",
   "nbconvert_exporter": "python",
   "pygments_lexer": "ipython3",
   "version": "3.12.10"
  }
 },
 "nbformat": 4,
 "nbformat_minor": 4
}
