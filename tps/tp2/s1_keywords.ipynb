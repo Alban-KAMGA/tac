{
 "cells": [
  {
   "cell_type": "markdown",
   "metadata": {},
   "source": [
    "# Extraction de Keywords"
   ]
  },
  {
   "cell_type": "markdown",
   "metadata": {},
   "source": [
    "## Imports"
   ]
  },
  {
   "cell_type": "code",
   "execution_count": 1,
   "metadata": {},
   "outputs": [],
   "source": [
    "import os\n",
    "import yake"
   ]
  },
  {
   "cell_type": "markdown",
   "metadata": {},
   "source": [
    "## Extraire les mots clés d'un document avec Yake"
   ]
  },
  {
   "cell_type": "markdown",
   "metadata": {},
   "source": [
    "https://github.com/LIAAD/yake"
   ]
  },
  {
   "cell_type": "code",
   "execution_count": 2,
   "metadata": {},
   "outputs": [
    {
     "data": {
      "text/plain": [
       "<yake.core.yake.KeywordExtractor at 0x21a7ed34620>"
      ]
     },
     "execution_count": 2,
     "metadata": {},
     "output_type": "execute_result"
    }
   ],
   "source": [
    "# Instantier l'extracteur de mots clés\n",
    "kw_extractor = yake.KeywordExtractor(lan=\"fr\", top=50)\n",
    "kw_extractor"
   ]
  },
  {
   "cell_type": "code",
   "execution_count": 3,
   "metadata": {},
   "outputs": [],
   "source": [
    "# Lister les Fichiers\n",
    "data_path = \"../data/txt/\"\n",
    "files = [f for f in os.listdir(data_path) if f.endswith('.txt')]"
   ]
  },
  {
   "cell_type": "code",
   "execution_count": 4,
   "metadata": {},
   "outputs": [
    {
     "data": {
      "text/plain": [
       "7986"
      ]
     },
     "execution_count": 4,
     "metadata": {},
     "output_type": "execute_result"
    }
   ],
   "source": [
    "# Imprimer le nombre de fichiers identifiés\n",
    "len(files)"
   ]
  },
  {
   "cell_type": "code",
   "execution_count": 5,
   "metadata": {},
   "outputs": [
    {
     "data": {
      "text/plain": [
       "['KB_JB230_1892-08-07_01-0003.txt',\n",
       " 'KB_JB230_1903-10-16_01-0002.txt',\n",
       " 'KB_JB230_1913-07-05_01-0001.txt',\n",
       " 'KB_JB258_1884-09-03_01-0003.txt',\n",
       " 'KB_JB258_1894-12-09_01-0003.txt',\n",
       " 'KB_JB258_1906-01-09_01-0002.txt',\n",
       " 'KB_JB421_1899-05-15_01-00003.txt',\n",
       " 'KB_JB421_1926-10-29_01-00002.txt',\n",
       " 'KB_JB421_1950-04-15_01-00004.txt',\n",
       " 'KB_JB427_1920-01-10_01-00004.txt']"
      ]
     },
     "execution_count": 5,
     "metadata": {},
     "output_type": "execute_result"
    }
   ],
   "source": [
    "# Les dix premiers fichiers\n",
    "files[:10]"
   ]
  },
  {
   "cell_type": "code",
   "execution_count": 6,
   "metadata": {},
   "outputs": [
    {
     "data": {
      "text/plain": [
       "'KB_JB230_1892-08-07_01-0003.txt'"
      ]
     },
     "execution_count": 6,
     "metadata": {},
     "output_type": "execute_result"
    }
   ],
   "source": [
    "# Choisir un fichier\n",
    "this_file = files[0]\n",
    "this_file"
   ]
  },
  {
   "cell_type": "code",
   "execution_count": 7,
   "metadata": {},
   "outputs": [
    {
     "data": {
      "text/plain": [
       "\"llUr fili ont tiibi «veeS£\\nU section  nor- \\niceés l’examen  de sortie oour  \\nfoWentiet  dn diplCmo  d’institairke.\\nCe qui Km (frappé  quand  H noua a été donné  de \\nràier [ Institut,  c m le caractère  de distinction  qal \\nai rnpraac  aux élèves  par naedireettoart  ne g rores  \\nfe «alureaes  de premier  ordre.  la loa. ta tenue  août  \\nurftita. « ce a'eat  pas une choea banale  que de troo-  \\nïer one Kaison  où l’on s'occupe,  en Même  tempe  qoe \\nrtruer  Mer esprit  et de développer  leur into\""
      ]
     },
     "execution_count": 7,
     "metadata": {},
     "output_type": "execute_result"
    }
   ],
   "source": [
    "# Récupérer le texte du fichier\n",
    "text = open(os.path.join(data_path, this_file), 'r', encoding='utf-8').read()\n",
    "text[:500]"
   ]
  },
  {
   "cell_type": "code",
   "execution_count": 8,
   "metadata": {},
   "outputs": [
    {
     "data": {
      "text/plain": [
       "[('août', np.float64(0.0024390416397440957)),\n",
       " ('rue', np.float64(0.004934265521653183)),\n",
       " ('froment', np.float64(0.009830412441597703)),\n",
       " ('Bruxelles', np.float64(0.010883936534448569)),\n",
       " ('notaire Verhaegen', np.float64(0.013059367407675366)),\n",
       " ('notaire', np.float64(0.013767504043975325)),\n",
       " ('centiares', np.float64(0.01576693079701318)),\n",
       " ('sortie oour foWentiet', np.float64(0.016973309578306454)),\n",
       " ('notaire Verhaegen adjugera', np.float64(0.01743325583388299)),\n",
       " ('prix', np.float64(0.02082587626613875)),\n",
       " ('ans', np.float64(0.02289074693388709)),\n",
       " ('kilo', np.float64(0.024480514736882543)),\n",
       " ('avoine', np.float64(0.03186762748310571)),\n",
       " ('d’une contenance', np.float64(0.033126836400488226)),\n",
       " ('seigle', np.float64(0.03347907871364114)),\n",
       " ('kilos', np.float64(0.0336607077632135)),\n",
       " ('contenance', np.float64(0.03399179632968788)),\n",
       " ('marché', np.float64(0.03495264555953129)),\n",
       " ('contenant', np.float64(0.035910390196210805)),\n",
       " ('septembre', np.float64(0.03822974554316057)),\n",
       " ('chaussée', np.float64(0.039712167464813104)),\n",
       " ('pommes', np.float64(0.040166256869149874)),\n",
       " ('Verhaegen', np.float64(0.04188759168532936)),\n",
       " ('colza', np.float64(0.04288914455779027)),\n",
       " ('orge', np.float64(0.04576427312706566)),\n",
       " ('Commune', np.float64(0.046842858898102524)),\n",
       " ('ares', np.float64(0.04794240486067614)),\n",
       " ('lin', np.float64(0.048390139536136)),\n",
       " ('maison', np.float64(0.04918721988505718)),\n",
       " ('Gand', np.float64(0.05402817845520273)),\n",
       " ('Verhaegen adjugera', np.float64(0.05989899195460789)),\n",
       " ('notaires', np.float64(0.06195376819788896)),\n",
       " ('llUr fili', np.float64(0.06264244681147253)),\n",
       " ('fili ont tiibi', np.float64(0.06264244681147253)),\n",
       " ('section nor', np.float64(0.06264244681147253)),\n",
       " ('iceés l’examen', np.float64(0.06264244681147253)),\n",
       " ('diplCmo d’institairke', np.float64(0.06264244681147253)),\n",
       " ('l’examen de sortie', np.float64(0.06304787417295647)),\n",
       " ('sortie oour', np.float64(0.06304787417295647)),\n",
       " ('oour foWentiet', np.float64(0.06304787417295647)),\n",
       " ('foWentiet dn diplCmo', np.float64(0.06304787417295647)),\n",
       " ('bénéfice', np.float64(0.0632316999107517)),\n",
       " ('d’une', np.float64(0.06334812429968902)),\n",
       " ('qualité', np.float64(0.06619848141304158)),\n",
       " ('relevée', np.float64(0.06690940270544406)),\n",
       " ('terre', np.float64(0.06707553134282493)),\n",
       " ('are', np.float64(0.0671193668049466)),\n",
       " ('située rue', np.float64(0.06843247296724662)),\n",
       " ('Molenbeek', np.float64(0.06972619060505554)),\n",
       " (\"bénéfice d'enchères\", np.float64(0.07231917662582166))]"
      ]
     },
     "execution_count": 8,
     "metadata": {},
     "output_type": "execute_result"
    }
   ],
   "source": [
    "# Extraire les mots clés de ce texte\n",
    "keywords = kw_extractor.extract_keywords(text)\n",
    "keywords"
   ]
  },
  {
   "cell_type": "code",
   "execution_count": 9,
   "metadata": {},
   "outputs": [
    {
     "data": {
      "text/plain": [
       "['notaire Verhaegen',\n",
       " 'd’une contenance',\n",
       " 'Verhaegen adjugera',\n",
       " 'llUr fili',\n",
       " 'section nor',\n",
       " 'iceés l’examen',\n",
       " 'diplCmo d’institairke',\n",
       " 'sortie oour',\n",
       " 'oour foWentiet',\n",
       " 'située rue',\n",
       " \"bénéfice d'enchères\"]"
      ]
     },
     "execution_count": 9,
     "metadata": {},
     "output_type": "execute_result"
    }
   ],
   "source": [
    "# Ne garder que les bigrammes\n",
    "kept = []\n",
    "for kw, score in keywords:\n",
    "    words = kw.split()\n",
    "    if len(words) == 2:\n",
    "        kept.append(kw)\n",
    "kept"
   ]
  },
  {
   "cell_type": "markdown",
   "metadata": {},
   "source": [
    "## Faire la même opération sur tous les documents"
   ]
  },
  {
   "cell_type": "code",
   "execution_count": 10,
   "metadata": {},
   "outputs": [
    {
     "name": "stdout",
     "output_type": "stream",
     "text": [
      "KB_JB230_1892-08-07_01-0003.txt mentions these keywords: notaire Verhaegen, d’une contenance, Verhaegen adjugera, llUr fili, section nor, iceés l’examen, diplCmo d’institairke, sortie oour, oour foWentiet, située rue, bénéfice d'enchères...\n",
      "KB_JB230_1903-10-16_01-0002.txt mentions these keywords: Mme Loubet, roi d’Italie, plus grande, Liste catholique...\n",
      "KB_JB230_1913-07-05_01-0001.txt mentions these keywords: Dans tous, compte rendu, budget belge, Grande Duchesse, libéral socialiste, oompto rendu, parti libérai, projet scolaire, ABONNEMENTS MLOIQUB...\n",
      "KB_JB258_1884-09-03_01-0003.txt mentions these keywords: aocuteof viem, loi loi, loi eet...\n",
      "KB_JB258_1894-12-09_01-0003.txt mentions these keywords: ’hui dimanche, qooo Ueuroi, Camille Dreyfus, Dreyfus aurait...\n",
      "KB_JB258_1906-01-09_01-0002.txt mentions these keywords: faiiit Joese, Lire demain, Ciit.it dan, Pauline dans, Maître d’Ecole, oui ikw, Mme Krauss, provoquer dans, Oct lot, isVvé dans, mieruetneni dans, ne-t dan, hki xelluim...\n",
      "KB_JB421_1899-05-15_01-00003.txt mentions these keywords: phoques balladeurs, plus tard, wagons employés, jours plus, semaine correspondante, Petit Paradis, pains cuits, pains appelés, section centrale...\n",
      "KB_JB421_1926-10-29_01-00002.txt mentions these keywords: prince Léopold, princesse ASTRID, procureur général, prince royal, Famille Royale, prince Charles, Banque Nationale, général Nollet, prince Radziwill, Société Minière...\n",
      "KB_JB421_1950-04-15_01-00004.txt mentions these keywords: Van Zeeland, Renée Cara, Madeleine Ska, Josée Goffin, roi Léopold, Solange Noirot, Jeanine Grandjean, Morhet reprendra, Van Mullem, Bruxelles Bruxelles, MORHET Soirée, Solange Grandjean, cercle dramatique, dramatique Sainte-Cécile, Roi Bruxelles, Madeleine Van, Renée Lambert, Anyse Hubermont, s'est rendu...\n",
      "KB_JB427_1920-01-10_01-00004.txt mentions these keywords: bonne réeom, bons gages, bureau journal, lee bons, référ. exig...\n"
     ]
    }
   ],
   "source": [
    "for f in sorted(files)[:10]:\n",
    "    text = open(os.path.join(data_path, f), 'r', encoding=\"utf-8\").read()\n",
    "    keywords = kw_extractor.extract_keywords(text)\n",
    "    kept = []\n",
    "    for kw, score in keywords:\n",
    "        words = kw.split()\n",
    "        if len(words) == 2:\n",
    "            kept.append(kw)\n",
    "    print(f\"{f} mentions these keywords: {', '.join(kept)}...\")"
   ]
  }
 ],
 "metadata": {
  "kernelspec": {
   "display_name": ".venv",
   "language": "python",
   "name": "python3"
  },
  "language_info": {
   "codemirror_mode": {
    "name": "ipython",
    "version": 3
   },
   "file_extension": ".py",
   "mimetype": "text/x-python",
   "name": "python",
   "nbconvert_exporter": "python",
   "pygments_lexer": "ipython3",
   "version": "3.12.10"
  }
 },
 "nbformat": 4,
 "nbformat_minor": 4
}
